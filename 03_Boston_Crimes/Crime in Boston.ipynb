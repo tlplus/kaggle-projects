{
 "cells": [
  {
   "cell_type": "code",
   "execution_count": 1,
   "metadata": {},
   "outputs": [],
   "source": [
    "import matplotlib.pyplot as plt\n",
    "import pandas as pd\n",
    "import seaborn as sns; sns.set()\n",
    "import numpy as np\n",
    "%matplotlib inline"
   ]
  },
  {
   "cell_type": "code",
   "execution_count": 2,
   "metadata": {
    "scrolled": true
   },
   "outputs": [
    {
     "data": {
      "text/html": [
       "<div>\n",
       "<style scoped>\n",
       "    .dataframe tbody tr th:only-of-type {\n",
       "        vertical-align: middle;\n",
       "    }\n",
       "\n",
       "    .dataframe tbody tr th {\n",
       "        vertical-align: top;\n",
       "    }\n",
       "\n",
       "    .dataframe thead th {\n",
       "        text-align: right;\n",
       "    }\n",
       "</style>\n",
       "<table border=\"1\" class=\"dataframe\">\n",
       "  <thead>\n",
       "    <tr style=\"text-align: right;\">\n",
       "      <th></th>\n",
       "      <th>INCIDENT_NUMBER</th>\n",
       "      <th>OFFENSE_CODE</th>\n",
       "      <th>OFFENSE_CODE_GROUP</th>\n",
       "      <th>OFFENSE_DESCRIPTION</th>\n",
       "      <th>DISTRICT</th>\n",
       "      <th>REPORTING_AREA</th>\n",
       "      <th>SHOOTING</th>\n",
       "      <th>OCCURRED_ON_DATE</th>\n",
       "      <th>YEAR</th>\n",
       "      <th>MONTH</th>\n",
       "      <th>DAY_OF_WEEK</th>\n",
       "      <th>HOUR</th>\n",
       "      <th>UCR_PART</th>\n",
       "      <th>STREET</th>\n",
       "      <th>Lat</th>\n",
       "      <th>Long</th>\n",
       "      <th>Location</th>\n",
       "    </tr>\n",
       "  </thead>\n",
       "  <tbody>\n",
       "    <tr>\n",
       "      <th>0</th>\n",
       "      <td>I182080058</td>\n",
       "      <td>2403</td>\n",
       "      <td>Disorderly Conduct</td>\n",
       "      <td>DISTURBING THE PEACE</td>\n",
       "      <td>E18</td>\n",
       "      <td>495</td>\n",
       "      <td>NaN</td>\n",
       "      <td>2018-10-03 20:13:00</td>\n",
       "      <td>2018</td>\n",
       "      <td>10</td>\n",
       "      <td>Wednesday</td>\n",
       "      <td>20</td>\n",
       "      <td>Part Two</td>\n",
       "      <td>ARLINGTON ST</td>\n",
       "      <td>42.262608</td>\n",
       "      <td>-71.121186</td>\n",
       "      <td>(42.26260773, -71.12118637)</td>\n",
       "    </tr>\n",
       "    <tr>\n",
       "      <th>1</th>\n",
       "      <td>I182080053</td>\n",
       "      <td>3201</td>\n",
       "      <td>Property Lost</td>\n",
       "      <td>PROPERTY - LOST</td>\n",
       "      <td>D14</td>\n",
       "      <td>795</td>\n",
       "      <td>NaN</td>\n",
       "      <td>2018-08-30 20:00:00</td>\n",
       "      <td>2018</td>\n",
       "      <td>8</td>\n",
       "      <td>Thursday</td>\n",
       "      <td>20</td>\n",
       "      <td>Part Three</td>\n",
       "      <td>ALLSTON ST</td>\n",
       "      <td>42.352111</td>\n",
       "      <td>-71.135311</td>\n",
       "      <td>(42.35211146, -71.13531147)</td>\n",
       "    </tr>\n",
       "    <tr>\n",
       "      <th>2</th>\n",
       "      <td>I182080052</td>\n",
       "      <td>2647</td>\n",
       "      <td>Other</td>\n",
       "      <td>THREATS TO DO BODILY HARM</td>\n",
       "      <td>B2</td>\n",
       "      <td>329</td>\n",
       "      <td>NaN</td>\n",
       "      <td>2018-10-03 19:20:00</td>\n",
       "      <td>2018</td>\n",
       "      <td>10</td>\n",
       "      <td>Wednesday</td>\n",
       "      <td>19</td>\n",
       "      <td>Part Two</td>\n",
       "      <td>DEVON ST</td>\n",
       "      <td>42.308126</td>\n",
       "      <td>-71.076930</td>\n",
       "      <td>(42.30812619, -71.07692974)</td>\n",
       "    </tr>\n",
       "    <tr>\n",
       "      <th>3</th>\n",
       "      <td>I182080051</td>\n",
       "      <td>413</td>\n",
       "      <td>Aggravated Assault</td>\n",
       "      <td>ASSAULT - AGGRAVATED - BATTERY</td>\n",
       "      <td>A1</td>\n",
       "      <td>92</td>\n",
       "      <td>NaN</td>\n",
       "      <td>2018-10-03 20:00:00</td>\n",
       "      <td>2018</td>\n",
       "      <td>10</td>\n",
       "      <td>Wednesday</td>\n",
       "      <td>20</td>\n",
       "      <td>Part One</td>\n",
       "      <td>CAMBRIDGE ST</td>\n",
       "      <td>42.359454</td>\n",
       "      <td>-71.059648</td>\n",
       "      <td>(42.35945371, -71.05964817)</td>\n",
       "    </tr>\n",
       "    <tr>\n",
       "      <th>4</th>\n",
       "      <td>I182080050</td>\n",
       "      <td>3122</td>\n",
       "      <td>Aircraft</td>\n",
       "      <td>AIRCRAFT INCIDENTS</td>\n",
       "      <td>A7</td>\n",
       "      <td>36</td>\n",
       "      <td>NaN</td>\n",
       "      <td>2018-10-03 20:49:00</td>\n",
       "      <td>2018</td>\n",
       "      <td>10</td>\n",
       "      <td>Wednesday</td>\n",
       "      <td>20</td>\n",
       "      <td>Part Three</td>\n",
       "      <td>PRESCOTT ST</td>\n",
       "      <td>42.375258</td>\n",
       "      <td>-71.024663</td>\n",
       "      <td>(42.37525782, -71.02466343)</td>\n",
       "    </tr>\n",
       "  </tbody>\n",
       "</table>\n",
       "</div>"
      ],
      "text/plain": [
       "  INCIDENT_NUMBER  OFFENSE_CODE  OFFENSE_CODE_GROUP  \\\n",
       "0      I182080058          2403  Disorderly Conduct   \n",
       "1      I182080053          3201       Property Lost   \n",
       "2      I182080052          2647               Other   \n",
       "3      I182080051           413  Aggravated Assault   \n",
       "4      I182080050          3122            Aircraft   \n",
       "\n",
       "              OFFENSE_DESCRIPTION DISTRICT REPORTING_AREA SHOOTING  \\\n",
       "0            DISTURBING THE PEACE      E18            495      NaN   \n",
       "1                 PROPERTY - LOST      D14            795      NaN   \n",
       "2       THREATS TO DO BODILY HARM       B2            329      NaN   \n",
       "3  ASSAULT - AGGRAVATED - BATTERY       A1             92      NaN   \n",
       "4              AIRCRAFT INCIDENTS       A7             36      NaN   \n",
       "\n",
       "      OCCURRED_ON_DATE  YEAR  MONTH DAY_OF_WEEK  HOUR    UCR_PART  \\\n",
       "0  2018-10-03 20:13:00  2018     10   Wednesday    20    Part Two   \n",
       "1  2018-08-30 20:00:00  2018      8    Thursday    20  Part Three   \n",
       "2  2018-10-03 19:20:00  2018     10   Wednesday    19    Part Two   \n",
       "3  2018-10-03 20:00:00  2018     10   Wednesday    20    Part One   \n",
       "4  2018-10-03 20:49:00  2018     10   Wednesday    20  Part Three   \n",
       "\n",
       "         STREET        Lat       Long                     Location  \n",
       "0  ARLINGTON ST  42.262608 -71.121186  (42.26260773, -71.12118637)  \n",
       "1    ALLSTON ST  42.352111 -71.135311  (42.35211146, -71.13531147)  \n",
       "2      DEVON ST  42.308126 -71.076930  (42.30812619, -71.07692974)  \n",
       "3  CAMBRIDGE ST  42.359454 -71.059648  (42.35945371, -71.05964817)  \n",
       "4   PRESCOTT ST  42.375258 -71.024663  (42.37525782, -71.02466343)  "
      ]
     },
     "execution_count": 2,
     "metadata": {},
     "output_type": "execute_result"
    }
   ],
   "source": [
    "df = pd.read_csv('crime.csv', engine = 'python')\n",
    "'''use engine = python to prevent UnicodeDecodeError'''\n",
    "df.head()"
   ]
  },
  {
   "cell_type": "code",
   "execution_count": 3,
   "metadata": {},
   "outputs": [
    {
     "data": {
      "text/plain": [
       "Index(['INCIDENT_NUMBER', 'OFFENSE_CODE', 'OFFENSE_CODE_GROUP',\n",
       "       'OFFENSE_DESCRIPTION', 'DISTRICT', 'REPORTING_AREA', 'SHOOTING',\n",
       "       'OCCURRED_ON_DATE', 'YEAR', 'MONTH', 'DAY_OF_WEEK', 'HOUR', 'UCR_PART',\n",
       "       'STREET', 'Lat', 'Long', 'Location'],\n",
       "      dtype='object')"
      ]
     },
     "execution_count": 3,
     "metadata": {},
     "output_type": "execute_result"
    }
   ],
   "source": [
    "df.columns"
   ]
  },
  {
   "cell_type": "code",
   "execution_count": 4,
   "metadata": {},
   "outputs": [
    {
     "data": {
      "text/plain": [
       "(327820, 17)"
      ]
     },
     "execution_count": 4,
     "metadata": {},
     "output_type": "execute_result"
    }
   ],
   "source": [
    "df.shape"
   ]
  },
  {
   "cell_type": "code",
   "execution_count": 5,
   "metadata": {
    "scrolled": true
   },
   "outputs": [
    {
     "data": {
      "text/plain": [
       "INCIDENT_NUMBER             0\n",
       "OFFENSE_CODE                0\n",
       "OFFENSE_CODE_GROUP          0\n",
       "OFFENSE_DESCRIPTION         0\n",
       "DISTRICT                 1774\n",
       "REPORTING_AREA              0\n",
       "SHOOTING               326765\n",
       "OCCURRED_ON_DATE            0\n",
       "YEAR                        0\n",
       "MONTH                       0\n",
       "DAY_OF_WEEK                 0\n",
       "HOUR                        0\n",
       "UCR_PART                   93\n",
       "STREET                  10977\n",
       "Lat                     20632\n",
       "Long                    20632\n",
       "Location                    0\n",
       "dtype: int64"
      ]
     },
     "execution_count": 5,
     "metadata": {},
     "output_type": "execute_result"
    }
   ],
   "source": [
    "df.isnull().sum()"
   ]
  },
  {
   "cell_type": "code",
   "execution_count": 6,
   "metadata": {
    "scrolled": false
   },
   "outputs": [
    {
     "data": {
      "image/png": "[encoded data removed]",
      "text/plain": [
       "<Figure size 1440x720 with 1 Axes>"
      ]
     },
     "metadata": {
      "needs_background": "light"
     },
     "output_type": "display_data"
    },
    {
     "name": "stdout",
     "output_type": "stream",
     "text": [
      "Total incidents: 369194\n"
     ]
    }
   ],
   "source": [
    "ax, fig = plt.subplots(figsize = (20, 10))\n",
    "days = ['Monday', 'Sunday', 'Tuesday', 'Wednesday', 'Thursday', 'Friday', 'Saturday', 'Sunday']\n",
    "incidents_days = []\n",
    "total_incidents = 0\n",
    "for i in days:\n",
    "    total_days = len(df[df['DAY_OF_WEEK'] == i])\n",
    "    incidents_days.append(total_days)\n",
    "    total_incidents+=total_days\n",
    "sns.barplot(x = days,\n",
    "             y = incidents_days)\n",
    "plt.ylabel('Incidents')\n",
    "plt.show()\n",
    "print('Total incidents:', total_incidents)"
   ]
  },
  {
   "cell_type": "code",
   "execution_count": 7,
   "metadata": {
    "scrolled": true
   },
   "outputs": [
    {
     "data": {
      "text/plain": [
       "array([2018, 2017, 2016, 2015])"
      ]
     },
     "execution_count": 7,
     "metadata": {},
     "output_type": "execute_result"
    }
   ],
   "source": [
    "a = (df['YEAR'].unique())\n",
    "a"
   ]
  },
  {
   "cell_type": "code",
   "execution_count": 8,
   "metadata": {},
   "outputs": [
    {
     "data": {
      "text/plain": [
       "dtype('int64')"
      ]
     },
     "execution_count": 8,
     "metadata": {},
     "output_type": "execute_result"
    }
   ],
   "source": [
    "df['YEAR'].dtype"
   ]
  },
  {
   "cell_type": "code",
   "execution_count": 9,
   "metadata": {
    "scrolled": false
   },
   "outputs": [
    {
     "data": {
      "text/plain": [
       "Text(0, 0.5, 'Total Incidents')"
      ]
     },
     "execution_count": 9,
     "metadata": {},
     "output_type": "execute_result"
    },
    {
     "data": {
      "image/png": "[encoded data removed]",
      "text/plain": [
       "<Figure size 1440x720 with 1 Axes>"
      ]
     },
     "metadata": {
      "needs_background": "light"
     },
     "output_type": "display_data"
    }
   ],
   "source": [
    "ax, fig = plt.subplots(figsize = (20, 10))\n",
    "years = [2015, 2016, 2017, 2018]\n",
    "incidents_year = []\n",
    "\n",
    "for i in years:\n",
    "    year_total = len(df[df['YEAR'] == i])\n",
    "    incidents_year.append(year_total)\n",
    "sns.barplot(x = years,\n",
    "             y = incidents_year,\n",
    "           palette = 'bright')\n",
    "plt.xlabel('Year')\n",
    "plt.ylabel('Total Incidents')"
   ]
  },
  {
   "cell_type": "code",
   "execution_count": 10,
   "metadata": {},
   "outputs": [
    {
     "data": {
      "text/plain": [
       "array([10,  8,  5,  9,  6,  4,  7,  3,  2,  1, 11, 12])"
      ]
     },
     "execution_count": 10,
     "metadata": {},
     "output_type": "execute_result"
    }
   ],
   "source": [
    "df['MONTH'].unique()"
   ]
  },
  {
   "cell_type": "code",
   "execution_count": 11,
   "metadata": {},
   "outputs": [
    {
     "data": {
      "text/plain": [
       "Text(0, 0.5, 'Total Incidents')"
      ]
     },
     "execution_count": 11,
     "metadata": {},
     "output_type": "execute_result"
    },
    {
     "data": {
      "image/png": "[encoded data removed]",
      "text/plain": [
       "<Figure size 1440x720 with 1 Axes>"
      ]
     },
     "metadata": {
      "needs_background": "light"
     },
     "output_type": "display_data"
    }
   ],
   "source": [
    "ax, fig = plt.subplots(figsize = (20, 10))\n",
    "month_incidents = []\n",
    "months = []\n",
    "for i in range(1, 13):\n",
    "    month_total = len(df[df['MONTH'] == i])\n",
    "    month_incidents.append(month_total)\n",
    "    months.append(i)\n",
    "    \n",
    "sns.barplot(x = months,\n",
    "           y = month_incidents)\n",
    "plt.xlabel('Month')\n",
    "plt.ylabel('Total Incidents')"
   ]
  },
  {
   "cell_type": "code",
   "execution_count": 12,
   "metadata": {},
   "outputs": [
    {
     "data": {
      "text/plain": [
       "array(['Disorderly Conduct', 'Property Lost', 'Other',\n",
       "       'Aggravated Assault', 'Aircraft', 'Vandalism',\n",
       "       'Motor Vehicle Accident Response', 'Verbal Disputes',\n",
       "       'Simple Assault', 'Towed', 'Auto Theft', 'Medical Assistance',\n",
       "       'Investigate Person', 'Fire Related Reports', 'Larceny',\n",
       "       'Investigate Property', 'Harassment', 'Robbery', 'Drug Violation',\n",
       "       'Violations', 'Liquor Violation', 'Fraud', 'Warrant Arrests',\n",
       "       'Recovered Stolen Property', 'Residential Burglary',\n",
       "       'Restraining Order Violations', 'Property Found',\n",
       "       'Missing Person Reported', 'Confidence Games', 'Ballistics',\n",
       "       'Larceny From Motor Vehicle', 'HOME INVASION',\n",
       "       'Landlord/Tenant Disputes', 'Firearm Violations',\n",
       "       'Missing Person Located', 'Prisoner Related Incidents',\n",
       "       'Auto Theft Recovery', 'License Plate Related Incidents',\n",
       "       'Embezzlement', 'Property Related Damage', 'Other Burglary',\n",
       "       'Operating Under the Influence', 'Commercial Burglary',\n",
       "       'Police Service Incidents', 'Arson', 'License Violation',\n",
       "       'Assembly or Gathering Violations', 'Counterfeiting',\n",
       "       'Search Warrants', 'Phone Call Complaints', 'Firearm Discovery',\n",
       "       'Homicide', 'Offenses Against Child / Family',\n",
       "       'Criminal Harassment', 'Harbor Related Incidents', 'Evading Fare',\n",
       "       'Prostitution', 'Service', 'Bomb Hoax', 'Explosives',\n",
       "       'Biological Threat', 'Manslaughter', 'Gambling',\n",
       "       'INVESTIGATE PERSON', 'HUMAN TRAFFICKING',\n",
       "       'HUMAN TRAFFICKING - INVOLUNTARY SERVITUDE',\n",
       "       'Burglary - No Property Taken'], dtype=object)"
      ]
     },
     "execution_count": 12,
     "metadata": {},
     "output_type": "execute_result"
    }
   ],
   "source": [
    "df['OFFENSE_CODE_GROUP'].unique()"
   ]
  },
  {
   "cell_type": "code",
   "execution_count": 13,
   "metadata": {},
   "outputs": [
    {
     "data": {
      "text/html": [
       "<div>\n",
       "<style scoped>\n",
       "    .dataframe tbody tr th:only-of-type {\n",
       "        vertical-align: middle;\n",
       "    }\n",
       "\n",
       "    .dataframe tbody tr th {\n",
       "        vertical-align: top;\n",
       "    }\n",
       "\n",
       "    .dataframe thead th {\n",
       "        text-align: right;\n",
       "    }\n",
       "</style>\n",
       "<table border=\"1\" class=\"dataframe\">\n",
       "  <thead>\n",
       "    <tr style=\"text-align: right;\">\n",
       "      <th></th>\n",
       "      <th>INCIDENT_NUMBER</th>\n",
       "      <th>OFFENSE_CODE</th>\n",
       "      <th>OFFENSE_CODE_GROUP</th>\n",
       "      <th>OFFENSE_DESCRIPTION</th>\n",
       "      <th>DISTRICT</th>\n",
       "      <th>REPORTING_AREA</th>\n",
       "      <th>SHOOTING</th>\n",
       "      <th>OCCURRED_ON_DATE</th>\n",
       "      <th>YEAR</th>\n",
       "      <th>MONTH</th>\n",
       "      <th>DAY_OF_WEEK</th>\n",
       "      <th>HOUR</th>\n",
       "      <th>UCR_PART</th>\n",
       "      <th>STREET</th>\n",
       "      <th>Lat</th>\n",
       "      <th>Long</th>\n",
       "      <th>Location</th>\n",
       "    </tr>\n",
       "  </thead>\n",
       "  <tbody>\n",
       "    <tr>\n",
       "      <th>0</th>\n",
       "      <td>I182080058</td>\n",
       "      <td>2403</td>\n",
       "      <td>Disorderly Conduct</td>\n",
       "      <td>DISTURBING THE PEACE</td>\n",
       "      <td>E18</td>\n",
       "      <td>495</td>\n",
       "      <td>NaN</td>\n",
       "      <td>2018-10-03 20:13:00</td>\n",
       "      <td>2018</td>\n",
       "      <td>10</td>\n",
       "      <td>Wednesday</td>\n",
       "      <td>20</td>\n",
       "      <td>Part Two</td>\n",
       "      <td>ARLINGTON ST</td>\n",
       "      <td>42.262608</td>\n",
       "      <td>-71.121186</td>\n",
       "      <td>(42.26260773, -71.12118637)</td>\n",
       "    </tr>\n",
       "    <tr>\n",
       "      <th>1</th>\n",
       "      <td>I182080053</td>\n",
       "      <td>3201</td>\n",
       "      <td>Property Lost</td>\n",
       "      <td>PROPERTY - LOST</td>\n",
       "      <td>D14</td>\n",
       "      <td>795</td>\n",
       "      <td>NaN</td>\n",
       "      <td>2018-08-30 20:00:00</td>\n",
       "      <td>2018</td>\n",
       "      <td>8</td>\n",
       "      <td>Thursday</td>\n",
       "      <td>20</td>\n",
       "      <td>Part Three</td>\n",
       "      <td>ALLSTON ST</td>\n",
       "      <td>42.352111</td>\n",
       "      <td>-71.135311</td>\n",
       "      <td>(42.35211146, -71.13531147)</td>\n",
       "    </tr>\n",
       "    <tr>\n",
       "      <th>2</th>\n",
       "      <td>I182080052</td>\n",
       "      <td>2647</td>\n",
       "      <td>Other</td>\n",
       "      <td>THREATS TO DO BODILY HARM</td>\n",
       "      <td>B2</td>\n",
       "      <td>329</td>\n",
       "      <td>NaN</td>\n",
       "      <td>2018-10-03 19:20:00</td>\n",
       "      <td>2018</td>\n",
       "      <td>10</td>\n",
       "      <td>Wednesday</td>\n",
       "      <td>19</td>\n",
       "      <td>Part Two</td>\n",
       "      <td>DEVON ST</td>\n",
       "      <td>42.308126</td>\n",
       "      <td>-71.076930</td>\n",
       "      <td>(42.30812619, -71.07692974)</td>\n",
       "    </tr>\n",
       "    <tr>\n",
       "      <th>3</th>\n",
       "      <td>I182080051</td>\n",
       "      <td>413</td>\n",
       "      <td>Aggravated Assault</td>\n",
       "      <td>ASSAULT - AGGRAVATED - BATTERY</td>\n",
       "      <td>A1</td>\n",
       "      <td>92</td>\n",
       "      <td>NaN</td>\n",
       "      <td>2018-10-03 20:00:00</td>\n",
       "      <td>2018</td>\n",
       "      <td>10</td>\n",
       "      <td>Wednesday</td>\n",
       "      <td>20</td>\n",
       "      <td>Part One</td>\n",
       "      <td>CAMBRIDGE ST</td>\n",
       "      <td>42.359454</td>\n",
       "      <td>-71.059648</td>\n",
       "      <td>(42.35945371, -71.05964817)</td>\n",
       "    </tr>\n",
       "    <tr>\n",
       "      <th>4</th>\n",
       "      <td>I182080050</td>\n",
       "      <td>3122</td>\n",
       "      <td>Aircraft</td>\n",
       "      <td>AIRCRAFT INCIDENTS</td>\n",
       "      <td>A7</td>\n",
       "      <td>36</td>\n",
       "      <td>NaN</td>\n",
       "      <td>2018-10-03 20:49:00</td>\n",
       "      <td>2018</td>\n",
       "      <td>10</td>\n",
       "      <td>Wednesday</td>\n",
       "      <td>20</td>\n",
       "      <td>Part Three</td>\n",
       "      <td>PRESCOTT ST</td>\n",
       "      <td>42.375258</td>\n",
       "      <td>-71.024663</td>\n",
       "      <td>(42.37525782, -71.02466343)</td>\n",
       "    </tr>\n",
       "  </tbody>\n",
       "</table>\n",
       "</div>"
      ],
      "text/plain": [
       "  INCIDENT_NUMBER  OFFENSE_CODE  OFFENSE_CODE_GROUP  \\\n",
       "0      I182080058          2403  Disorderly Conduct   \n",
       "1      I182080053          3201       Property Lost   \n",
       "2      I182080052          2647               Other   \n",
       "3      I182080051           413  Aggravated Assault   \n",
       "4      I182080050          3122            Aircraft   \n",
       "\n",
       "              OFFENSE_DESCRIPTION DISTRICT REPORTING_AREA SHOOTING  \\\n",
       "0            DISTURBING THE PEACE      E18            495      NaN   \n",
       "1                 PROPERTY - LOST      D14            795      NaN   \n",
       "2       THREATS TO DO BODILY HARM       B2            329      NaN   \n",
       "3  ASSAULT - AGGRAVATED - BATTERY       A1             92      NaN   \n",
       "4              AIRCRAFT INCIDENTS       A7             36      NaN   \n",
       "\n",
       "      OCCURRED_ON_DATE  YEAR  MONTH DAY_OF_WEEK  HOUR    UCR_PART  \\\n",
       "0  2018-10-03 20:13:00  2018     10   Wednesday    20    Part Two   \n",
       "1  2018-08-30 20:00:00  2018      8    Thursday    20  Part Three   \n",
       "2  2018-10-03 19:20:00  2018     10   Wednesday    19    Part Two   \n",
       "3  2018-10-03 20:00:00  2018     10   Wednesday    20    Part One   \n",
       "4  2018-10-03 20:49:00  2018     10   Wednesday    20  Part Three   \n",
       "\n",
       "         STREET        Lat       Long                     Location  \n",
       "0  ARLINGTON ST  42.262608 -71.121186  (42.26260773, -71.12118637)  \n",
       "1    ALLSTON ST  42.352111 -71.135311  (42.35211146, -71.13531147)  \n",
       "2      DEVON ST  42.308126 -71.076930  (42.30812619, -71.07692974)  \n",
       "3  CAMBRIDGE ST  42.359454 -71.059648  (42.35945371, -71.05964817)  \n",
       "4   PRESCOTT ST  42.375258 -71.024663  (42.37525782, -71.02466343)  "
      ]
     },
     "execution_count": 13,
     "metadata": {},
     "output_type": "execute_result"
    }
   ],
   "source": [
    "df.head()"
   ]
  },
  {
   "cell_type": "code",
   "execution_count": 14,
   "metadata": {},
   "outputs": [
    {
     "data": {
      "text/plain": [
       "<matplotlib.axes._subplots.AxesSubplot at 0x11d25f828>"
      ]
     },
     "execution_count": 14,
     "metadata": {},
     "output_type": "execute_result"
    },
    {
     "data": {
      "image/png": "[encoded data removed]",
      "text/plain": [
       "<Figure size 1440x720 with 1 Axes>"
      ]
     },
     "metadata": {
      "needs_background": "light"
     },
     "output_type": "display_data"
    }
   ],
   "source": [
    "ax, fig = plt.subplots(figsize = (20, 10))\n",
    "\n",
    "'''assign district to list'''\n",
    "df['DISTRICT'].unique()\n",
    "district = list(df['DISTRICT'].unique())\n",
    "\n",
    "district_incident = []\n",
    "'''each district and total incident'''\n",
    "for i in district:\n",
    "    district_total = len(df[df['DISTRICT'] == i])\n",
    "    district_incident.append(district_total)\n",
    "    \n",
    "sns.barplot(x = district,\n",
    "           y = district_incident)"
   ]
  },
  {
   "cell_type": "code",
   "execution_count": 15,
   "metadata": {},
   "outputs": [
    {
     "name": "stdout",
     "output_type": "stream",
     "text": [
      "Total shooting incidents: 1055\n"
     ]
    }
   ],
   "source": [
    "'''How many are shootings?'''\n",
    "print('Total shooting incidents:', len(df[df['SHOOTING'] == 'Y']))"
   ]
  },
  {
   "cell_type": "code",
   "execution_count": null,
   "metadata": {},
   "outputs": [],
   "source": []
  }
 ],
 "metadata": {
  "kernelspec": {
   "display_name": "Python 3",
   "language": "python",
   "name": "python3"
  },
  "language_info": {
   "codemirror_mode": {
    "name": "ipython",
    "version": 3
   },
   "file_extension": ".py",
   "mimetype": "text/x-python",
   "name": "python",
   "nbconvert_exporter": "python",
   "pygments_lexer": "ipython3",
   "version": "3.6.8"
  }
 },
 "nbformat": 4,
 "nbformat_minor": 2
}
